{
 "cells": [
  {
   "cell_type": "markdown",
   "metadata": {},
   "source": [
    "# SELECTION SORT"
   ]
  },
  {
   "cell_type": "code",
   "execution_count": 35,
   "metadata": {},
   "outputs": [],
   "source": [
    "def selectionsort(array):\n",
    "    for i in range(len(array)):\n",
    "        min_index = i\n",
    "        for j in range(i+1,len(array)):\n",
    "            if array[j] < array[i]:\n",
    "                min_index = j\n",
    "        array[i],array[min_index] = array[min_index],array[i]\n",
    "    return array    "
   ]
  },
  {
   "cell_type": "markdown",
   "metadata": {},
   "source": [
    "# MERGE SORT"
   ]
  },
  {
   "cell_type": "code",
   "execution_count": 38,
   "metadata": {},
   "outputs": [],
   "source": [
    "def mergesort(array):\n",
    "    n = len(array)\n",
    "    if n > 1:\n",
    "        mid = n//2\n",
    "        left = array[:mid]\n",
    "        right = array[mid:]\n",
    "        \n",
    "        mergesort(left)\n",
    "        mergesort(right)\n",
    "        \n",
    "        i = j = k = 0\n",
    "        \n",
    "        while i < len(left) and j < len(right):\n",
    "            if left[i] < right[j]:\n",
    "                array[k] = left[i]\n",
    "                i = i+1\n",
    "            else:\n",
    "                array[k] = right[j]\n",
    "                j = j+1\n",
    "            k = k+1\n",
    "    \n",
    "        while (i < len(left)):\n",
    "            array[k] = left[i]\n",
    "            k = k+1\n",
    "            i = i+1\n",
    "            \n",
    "        while (j < len(right)):\n",
    "            array[k] = right[j]\n",
    "            j = j+1\n",
    "            k = k+1\n",
    "    return array\n",
    "        \n",
    "        \n",
    "        "
   ]
  },
  {
   "cell_type": "code",
   "execution_count": 39,
   "metadata": {},
   "outputs": [
    {
     "name": "stdout",
     "output_type": "stream",
     "text": [
      "THE SELECTED SORTED ARRAY IS  [1, 1, 4, 3, 7, 8, 9]\n",
      "THE MERGED SORTED ARRAY IS  [1, 1, 3, 4, 7, 8, 9]\n"
     ]
    }
   ],
   "source": [
    "if __name__ == \"__main__\"  :\n",
    "    array = [1,9,8,7,3,4,1]\n",
    "    array = selectionsort(array)\n",
    "    print(\"THE SELECTED SORTED ARRAY IS \",array)\n",
    "    \n",
    "    array = [1,9,8,7,3,4,1]\n",
    "    array = mergesort(array)\n",
    "    print(\"THE MERGED SORTED ARRAY IS \",array)"
   ]
  },
  {
   "cell_type": "markdown",
   "metadata": {},
   "source": [
    "# BUBBLE SORT"
   ]
  },
  {
   "cell_type": "code",
   "execution_count": null,
   "metadata": {},
   "outputs": [],
   "source": [
    "import numpy as np\n",
    "def bubblesort(arr):\n",
    "    n = len(arr)\n",
    "    for i in range(n):\n",
    "        for j in range(n-1):\n",
    "            if arr[j+1] < arr[j]:\n",
    "                temp = arr[j]\n",
    "                arr[j] = arr[j+1]\n",
    "                arr[j+1] = temp\n",
    "    return arr\n",
    "\n",
    "if __name__ == \"__main__\":\n",
    "    arr = list(np.linspace(0,0.5,5000)) + list(np.linspace(-500,0.5,500))\n",
    "    print(bubblesort(arr))"
   ]
  }
 ],
 "metadata": {
  "kernelspec": {
   "display_name": "Python 3",
   "language": "python",
   "name": "python3"
  },
  "language_info": {
   "codemirror_mode": {
    "name": "ipython",
    "version": 3
   },
   "file_extension": ".py",
   "mimetype": "text/x-python",
   "name": "python",
   "nbconvert_exporter": "python",
   "pygments_lexer": "ipython3",
   "version": "3.7.6"
  }
 },
 "nbformat": 4,
 "nbformat_minor": 4
}
